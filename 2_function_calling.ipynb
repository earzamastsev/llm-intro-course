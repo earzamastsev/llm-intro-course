{
 "cells": [
  {
   "cell_type": "markdown",
   "metadata": {},
   "source": [
    "# Advanced LLM features"
   ]
  },
  {
   "cell_type": "code",
   "execution_count": 1,
   "metadata": {},
   "outputs": [],
   "source": [
    "import base64\n",
    "from pathlib import Path\n",
    "from pprint import pp\n",
    "import json\n",
    "import logging\n",
    "\n",
    "import openai\n",
    "from openai import OpenAI\n",
    "from pydantic import BaseModel, Field\n",
    "from dotenv import load_dotenv\n",
    "from IPython.display import display, Image, Audio\n",
    "import requests\n",
    "\n",
    "load_dotenv()\n",
    "\n",
    "client = OpenAI()"
   ]
  },
  {
   "cell_type": "markdown",
   "metadata": {},
   "source": [
    "## 1. Sctructured output"
   ]
  },
  {
   "cell_type": "markdown",
   "metadata": {},
   "source": [
    "## Преимущества \n",
    "\n",
    "1. **Надежная типизация**: Нет необходимости валидации или повторной попытки обработки некорректно отформатированных ответов.\n",
    "2. **Обработка ошибок**: Отказы модели на основе безопасности теперь можно обнаружить программным способом.\n",
    "3. **Проще формулировать запросы**: Нет необходимости в развернутых формулировках для достижения ожидаемого формата ответа."
   ]
  },
  {
   "cell_type": "code",
   "execution_count": 2,
   "metadata": {},
   "outputs": [],
   "source": [
    "output_schema = {\n",
    "  \"name\": \"course_structure\",\n",
    "  \"schema\": {\n",
    "    \"type\": \"object\",\n",
    "    \"properties\": {\n",
    "      \"course_title\": {\n",
    "        \"type\": \"string\",\n",
    "        \"description\": \"The title of the course.\"\n",
    "      },\n",
    "      \"course_description\": {\n",
    "        \"type\": \"string\",\n",
    "        \"description\": \"A brief description of the course.\"\n",
    "      },\n",
    "      \"modules\": {\n",
    "        \"type\": \"array\",\n",
    "        \"description\": \"List of modules in the course.\",\n",
    "        \"items\": {\n",
    "          \"type\": \"object\",\n",
    "          \"properties\": {\n",
    "            \"module_number\": {\n",
    "              \"type\": \"number\",\n",
    "              \"description\": \"The sequential number of the module.\"\n",
    "            },\n",
    "            \"module_title\": {\n",
    "              \"type\": \"string\",\n",
    "              \"description\": \"The title of the module.\"\n",
    "            },\n",
    "            \"module_description\": {\n",
    "              \"type\": \"string\",\n",
    "              \"description\": \"A brief description of the module.\"\n",
    "            },\n",
    "            \"lessons\": {\n",
    "              \"type\": \"array\",\n",
    "              \"description\": \"List of lessons within the module.\",\n",
    "              \"items\": {\n",
    "                \"type\": \"object\",\n",
    "                \"properties\": {\n",
    "                  \"lesson_number\": {\n",
    "                    \"type\": \"number\",\n",
    "                    \"description\": \"The sequential number of the lesson.\"\n",
    "                  },\n",
    "                  \"lesson_title\": {\n",
    "                    \"type\": \"string\",\n",
    "                    \"description\": \"The title of the lesson.\"\n",
    "                  },\n",
    "                  \"lesson_description\": {\n",
    "                    \"type\": \"string\",\n",
    "                    \"description\": \"A brief description of the lesson.\"\n",
    "                  }\n",
    "                },\n",
    "                \"required\": [\n",
    "                  \"lesson_number\",\n",
    "                  \"lesson_title\",\n",
    "                  \"lesson_description\"\n",
    "                ],\n",
    "                \"additionalProperties\": False\n",
    "              }\n",
    "            }\n",
    "          },\n",
    "          \"required\": [\n",
    "            \"module_number\",\n",
    "            \"module_title\",\n",
    "            \"module_description\",\n",
    "            \"lessons\"\n",
    "          ],\n",
    "          \"additionalProperties\": False\n",
    "        }\n",
    "      }\n",
    "    },\n",
    "    \"required\": [\n",
    "      \"course_title\",\n",
    "      \"course_description\",\n",
    "      \"modules\"\n",
    "    ],\n",
    "    \"additionalProperties\": False\n",
    "  },\n",
    "  \"strict\": True\n",
    "}"
   ]
  },
  {
   "cell_type": "code",
   "execution_count": 5,
   "metadata": {},
   "outputs": [
    {
     "name": "stdout",
     "output_type": "stream",
     "text": [
      "{'course_title': 'Введение в Искусственный Интеллект для Представителей '\n",
      "                 'Государственных Органов',\n",
      " 'course_description': 'Этот курс предназначен для представителей '\n",
      "                       'государственных органов, чтобы дать им общее '\n",
      "                       'представление об искусственном интеллекте (ИИ), его '\n",
      "                       'применении и возможностях для государственной сферы. '\n",
      "                       'Курс также ознакомит с концепциями, этическими '\n",
      "                       'аспектами и политическими последствиями внедрения ИИ в '\n",
      "                       'государственный сектор.',\n",
      " 'modules': [{'module_number': 1,\n",
      "              'module_title': 'Основы Искусственного Интеллекта',\n",
      "              'module_description': 'В этом модуле слушатели узнают об '\n",
      "                                    'основных концепциях ИИ, его истории и '\n",
      "                                    'текущих трендах. Будет рассмотрено, как '\n",
      "                                    'ИИ может быть использован в '\n",
      "                                    'государственном секторе и какие '\n",
      "                                    'возможности он открывает.',\n",
      "              'lessons': [{'lesson_number': 1,\n",
      "                           'lesson_title': 'Введение в Искусственный Интеллект',\n",
      "                           'lesson_description': 'Познакомьтесь с историей '\n",
      "                                                 'возникновения ИИ, основными '\n",
      "                                                 'терминологиями, а также '\n",
      "                                                 'примерами его применения в '\n",
      "                                                 'различных сферах.'},\n",
      "                          {'lesson_number': 2,\n",
      "                           'lesson_title': 'Основные компоненты ИИ систем',\n",
      "                           'lesson_description': 'Узнайте о различных '\n",
      "                                                 'компонентах ИИ, таких как '\n",
      "                                                 'машинное обучение, нейронные '\n",
      "                                                 'сети и обработка '\n",
      "                                                 'естественного языка.'},\n",
      "                          {'lesson_number': 3,\n",
      "                           'lesson_title': 'Применение ИИ в государственном '\n",
      "                                           'управлении',\n",
      "                           'lesson_description': 'Изучите, какие задачи ИИ '\n",
      "                                                 'может решать в '\n",
      "                                                 'государственном секторе, '\n",
      "                                                 'включая анализ данных, '\n",
      "                                                 'автоматизацию процессов и '\n",
      "                                                 'улучшение обслуживания '\n",
      "                                                 'граждан.'},\n",
      "                          {'lesson_number': 4,\n",
      "                           'lesson_title': 'Этические и правовые аспекты ИИ',\n",
      "                           'lesson_description': 'Обсудите этические '\n",
      "                                                 'соображения, связанные с '\n",
      "                                                 'использованием ИИ, включая '\n",
      "                                                 'конфиденциальность данных и '\n",
      "                                                 'ответственность за решения, '\n",
      "                                                 'принимаемые ИИ-системами.'},\n",
      "                          {'lesson_number': 5,\n",
      "                           'lesson_title': 'Будущее ИИ в государственном '\n",
      "                                           'секторе',\n",
      "                           'lesson_description': 'Рассмотрите, какие возможные '\n",
      "                                                 'сценарии и тренды можно '\n",
      "                                                 'ожидать в будущем, как они '\n",
      "                                                 'могут повлиять на работу '\n",
      "                                                 'государственных органов и '\n",
      "                                                 'какое место в этом будущем '\n",
      "                                                 'займут новые технологии.'}]}]}\n"
     ]
    }
   ],
   "source": [
    "messages = [{'role':'system', 'content':'Ты - ИИ помощник методиста и преподавателя онлайн-курсов. Ты помогаешь разрабоатывать программы и онлайн-курсы'},\n",
    "            {'role':'user', 'content': 'Разработай программу курса из 1 модуля и 5 уроков по введению в ИИ для представителей государственных органов'}]\n",
    "\n",
    "response = client.chat.completions.create(\n",
    "    model=\"gpt-4o\",\n",
    "    messages=messages,\n",
    "    response_format={\"type\": \"json_schema\", \"json_schema\":output_schema}\n",
    ")\n",
    "\n",
    "text_response = response.choices[0].message.content\n",
    "json_response = json.loads(text_response)\n",
    "pp(json_response)"
   ]
  },
  {
   "cell_type": "code",
   "execution_count": null,
   "metadata": {},
   "outputs": [],
   "source": [
    "# chain-of-thougth\n",
    "\n",
    "class Step(BaseModel):\n",
    "    explanation: str\n",
    "    output: str\n",
    "\n",
    "class MathReasoning(BaseModel):\n",
    "    steps: list[Step]\n",
    "    final_answer: str\n",
    "\n",
    "completion = client.beta.chat.completions.parse(\n",
    "    model=\"gpt-4o\",\n",
    "    messages=[\n",
    "        {\"role\": \"system\", \"content\": \"You are a helpful math tutor. Guide the user through the solution step by step.\"},\n",
    "        {\"role\": \"user\", \"content\": \"Сколько букв r в слове strrawberry?\"}\n",
    "    ],\n",
    "    response_format=MathReasoning,\n",
    ")\n",
    "\n",
    "math_reasoning = completion.choices[0].message.parsed\n",
    "print(math_reasoning)"
   ]
  },
  {
   "cell_type": "code",
   "execution_count": null,
   "metadata": {},
   "outputs": [],
   "source": [
    "# User messages classification\n",
    "\n",
    "from enum import Enum\n",
    "from typing import Optional\n",
    "\n",
    "class Category(str, Enum):\n",
    "    help_desk = \"helpdesk\"\n",
    "    sales_promo = \"sales promo\"\n",
    "    start_buy = \"start to buy\"\n",
    "\n",
    "class UserIntent(BaseModel):\n",
    "    is_start_buy: bool\n",
    "    category: Optional[Category]\n",
    "    explanation_if_start_buy: Optional[str]\n",
    "\n",
    "completion = client.beta.chat.completions.parse(\n",
    "    model=\"gpt-4o-2024-08-06\",\n",
    "    messages=[\n",
    "        {\"role\": \"system\", \"content\": \"Determine user intent and explain if they do start buy.\"},\n",
    "        {\"role\": \"user\", \"content\": \"Мне нужны кроссовки 42 размера, в каком разделе мне их искать?\"}\n",
    "    ],\n",
    "    response_format=UserIntent,\n",
    ")\n",
    "\n",
    "user_intent = completion.choices[0].message.parsed\n",
    "print(user_intent)"
   ]
  },
  {
   "cell_type": "markdown",
   "metadata": {},
   "source": [
    "## 2. Function calling"
   ]
  },
  {
   "cell_type": "markdown",
   "metadata": {},
   "source": [
    "<img src=\"./images/function_callin_main.png\" alt=\"Drawing\" style=\"width: 800px;\"/>"
   ]
  },
  {
   "cell_type": "markdown",
   "metadata": {},
   "source": []
  },
  {
   "cell_type": "code",
   "execution_count": 7,
   "metadata": {},
   "outputs": [
    {
     "name": "stdout",
     "output_type": "stream",
     "text": [
      "Чтобы помочь вам найти доступного репетитора по английскому языку, мне необходимо знать дату начала занятий и количество занятий, которое вам требуется. Пожалуйста, предоставьте эту информацию.\n"
     ]
    }
   ],
   "source": [
    "def find_tutor(subject: str, start_date: str, num_sessions: int) -> list:\n",
    "    # some code here\n",
    "    # ...\n",
    "    return [('Иванов Семен', 'ivanov@semen'), ('Петров Николай', 'petrov@nikolay')]\n",
    "\n",
    "function_description = {\n",
    "  \"name\": \"find_tutor\",\n",
    "  \"description\": \"Функция выполняет поиск свободного репетитора.\",\n",
    "  \"strict\": True,\n",
    "  \"parameters\": {\n",
    "    \"type\": \"object\",\n",
    "    \"required\": [\n",
    "      \"subject\",\n",
    "      \"start_date\",\n",
    "      \"num_sessions\"\n",
    "    ],\n",
    "    \"properties\": {\n",
    "      \"subject\": {\n",
    "        \"type\": \"string\",\n",
    "        \"description\": \"Предмет, по которому требуется найти репетитора\"\n",
    "      },\n",
    "      \"start_date\": {\n",
    "        \"type\": \"string\",\n",
    "        \"description\": \"Дата начала занятий в формате YYYY-MM-DD\"\n",
    "      },\n",
    "      \"num_sessions\": {\n",
    "        \"type\": \"number\",\n",
    "        \"description\": \"Требуемое количество занятий\"\n",
    "      }\n",
    "    },\n",
    "    \"additionalProperties\": False\n",
    "  }\n",
    "}\n",
    "\n",
    "tools = [\n",
    "    {\n",
    "        \"type\": \"function\",\n",
    "        \"function\": function_description\n",
    "    }\n",
    "]\n",
    "\n",
    "messages = [\n",
    "    {\n",
    "        \"role\": \"system\",\n",
    "        \"content\": \"You are a helpful customer support assistant. Use the supplied tools to assist the user.\"\n",
    "    },\n",
    "    {\n",
    "        \"role\": \"user\",\n",
    "        \"content\": \"Привет, я хотел бы найти репетитора по английскому языку. Подскажите, кто из репетиторов сейчас доступен?\"\n",
    "    }\n",
    "]\n",
    "\n",
    "response = client.chat.completions.create(\n",
    "    model=\"gpt-4o\",\n",
    "    messages=messages,\n",
    "    tools=tools,\n",
    ")\n",
    "\n",
    "print(response.choices[0].message.content)"
   ]
  },
  {
   "cell_type": "code",
   "execution_count": null,
   "metadata": {},
   "outputs": [
    {
     "name": "stdout",
     "output_type": "stream",
     "text": [
      "Choice(finish_reason='tool_calls', index=0, logprobs=None, message=ChatCompletionMessage(content=None, refusal=None, role='assistant', audio=None, function_call=None, tool_calls=[ChatCompletionMessageToolCall(id='call_O2hA8A0apRq1LCqr6elqtV1I', function=Function(arguments='{\"subject\":\"английский язык\",\"start_date\":\"2024-01-22\",\"num_sessions\":10}', name='find_tutor'), type='function')]))\n",
      "ChatCompletionMessageToolCall(id='call_O2hA8A0apRq1LCqr6elqtV1I', function=Function(arguments='{\"subject\":\"английский язык\",\"start_date\":\"2024-01-22\",\"num_sessions\":10}', name='find_tutor'), type='function')\n",
      "[('Иванов Семен', 'ivanov@semen'), ('Петров Николай', 'petrov@nikolay')]\n"
     ]
    }
   ],
   "source": [
    "messages = [\n",
    "    {\n",
    "        \"role\": \"system\",\n",
    "        \"content\": \"You are a helpful customer support assistant. Use the supplied tools to assist the user.\"\n",
    "    },\n",
    "    {\n",
    "        \"role\": \"user\",\n",
    "        \"content\": \"Привет, я хотел бы найти репетитора по английскому языку. Подскажите, кто из репетиторов сейчас доступен?\"\n",
    "    },\n",
    "    {\n",
    "        \"role\": \"assistant\",\n",
    "        \"content\": \"Чтобы помочь вам найти доступного репетитора по английскому языку, мне необходимо знать дату начала занятий и количество занятий, которое вам требуется. Пожалуйста, предоставьте эту информацию.\"\n",
    "    },\n",
    "    {\n",
    "        \"role\": \"user\",\n",
    "        \"content\": \"с 22 января, нужно я думаю не меньше 10 занятий\"\n",
    "    }\n",
    "]\n",
    "\n",
    "response = client.chat.completions.create(\n",
    "    model=\"gpt-4o\",\n",
    "    messages=messages,\n",
    "    tools=tools,\n",
    ")\n",
    "\n",
    "print(response.choices[0])\n",
    "\n",
    "tool_call = response.choices[0].message.tool_calls[0]\n",
    "print(tool_call)\n",
    "arguments = json.loads(tool_call.function.arguments)\n",
    "tutors = find_tutor(**arguments)\n",
    "print(tutors)\n"
   ]
  },
  {
   "cell_type": "code",
   "execution_count": null,
   "metadata": {},
   "outputs": [
    {
     "name": "stdout",
     "output_type": "stream",
     "text": [
      "Сейчас доступны следующие репетиторы по английскому языку:\n",
      "\n",
      "1. Иванов Семен - электронная почта: ivanov@semen\n",
      "2. Петров Николай - электронная почта: petrov@nikolay\n",
      "\n",
      "Вы можете связаться с ними, чтобы обсудить детали занятий. Если у вас есть другие вопросы, не стесняйтесь спрашивать!\n"
     ]
    }
   ],
   "source": [
    "function_call_result_message = {\n",
    "    \"role\": \"tool\",\n",
    "    \"content\": json.dumps({\n",
    "        \"avaliable_tutors\": tutors\n",
    "    }),\n",
    "    \"tool_call_id\": response.choices[0].message.tool_calls[0].id\n",
    "}\n",
    "\n",
    "messages = [\n",
    "    {\n",
    "        \"role\": \"system\",\n",
    "        \"content\": \"You are a helpful customer support assistant. Use the supplied tools to assist the user.\"\n",
    "    },\n",
    "    {\n",
    "        \"role\": \"user\",\n",
    "        \"content\": \"Привет, я хотел бы найти репетитора по английскому языку. Подскажите, кто из репетиторов сейчас доступен?\"\n",
    "    },\n",
    "    {\n",
    "        \"role\": \"assistant\",\n",
    "        \"content\": \"Чтобы помочь вам найти доступного репетитора по английскому языку, мне необходимо знать дату начала занятий и количество занятий, которое вам требуется. Пожалуйста, предоставьте эту информацию.\"\n",
    "    },\n",
    "    {\n",
    "        \"role\": \"user\",\n",
    "        \"content\": \"с 22 января, нужно я думаю не меньше 10 занятий\"\n",
    "    },\n",
    "    response.choices[0].message,\n",
    "    function_call_result_message\n",
    "]\n",
    "\n",
    "response = client.chat.completions.create(\n",
    "    model=\"gpt-4o\",\n",
    "    messages=messages,\n",
    "    tools=tools,\n",
    ")\n",
    "\n",
    "print(response.choices[0].message.content)"
   ]
  },
  {
   "cell_type": "code",
   "execution_count": 30,
   "metadata": {},
   "outputs": [
    {
     "name": "stdout",
     "output_type": "stream",
     "text": [
      "[{'type': 'function', 'function': {'name': 'GetAvaliableTutors', 'strict': True, 'parameters': {'description': 'Функция выполняет поиск свободного репетитора', 'properties': {'subject': {'description': 'Предмет, по которому требуется найти репетитора', 'title': 'Subject', 'type': 'string'}, 'start_date': {'description': 'Дата начала занятий в формате YYYY-MM-DD', 'title': 'Start Date', 'type': 'string'}, 'num_sessions': {'description': 'Требуемое количество занятий', 'title': 'Num Sessions', 'type': 'integer'}}, 'required': ['subject', 'start_date', 'num_sessions'], 'title': 'GetAvaliableTutors', 'type': 'object', 'additionalProperties': False}, 'description': 'Функция выполняет поиск свободного репетитора'}}]\n"
     ]
    }
   ],
   "source": [
    "class GetAvaliableTutors(BaseModel):\n",
    "    '''Функция выполняет поиск свободного репетитора'''\n",
    "    subject: str = Field(description='Предмет, по которому требуется найти репетитора')\n",
    "    start_date: str = Field(description='Дата начала занятий в формате YYYY-MM-DD')\n",
    "    num_sessions: int = Field(description='Требуемое количество занятий')\n",
    "     \n",
    "tools = [openai.pydantic_function_tool(GetAvaliableTutors)]\n",
    "\n",
    "print(tools)"
   ]
  },
  {
   "cell_type": "code",
   "execution_count": 31,
   "metadata": {},
   "outputs": [
    {
     "name": "stdout",
     "output_type": "stream",
     "text": [
      "Когда вы планируете начать занятия и сколько сессий вам потребуется?\n"
     ]
    }
   ],
   "source": [
    "messages = [\n",
    "    {\n",
    "        \"role\": \"system\",\n",
    "        \"content\": \"You are a helpful customer support assistant. Use the supplied tools to assist the user.\"\n",
    "    },\n",
    "    {\n",
    "        \"role\": \"user\",\n",
    "        \"content\": \"Привет, я хотел бы найти репетитора по английскому языку. Подскажите, кто из репетиторов сейчас доступен?\"\n",
    "    }\n",
    "]\n",
    "\n",
    "response = client.chat.completions.create(\n",
    "    model=\"gpt-4o\",\n",
    "    messages=messages,\n",
    "    tools=tools,\n",
    ")\n",
    "\n",
    "print(response.choices[0].message.content)"
   ]
  },
  {
   "cell_type": "code",
   "execution_count": 40,
   "metadata": {},
   "outputs": [
    {
     "name": "stdout",
     "output_type": "stream",
     "text": [
      "Function(arguments='{\"subject\":\"английский\",\"start_date\":\"2024-01-22\",\"num_sessions\":10}', name='GetAvaliableTutors')\n"
     ]
    }
   ],
   "source": [
    "messages = [\n",
    "    {\n",
    "        \"role\": \"system\",\n",
    "        \"content\": \"You are a helpful customer support assistant. Use the supplied tools to assist the user.\"\n",
    "    },\n",
    "    {\n",
    "        \"role\": \"user\",\n",
    "        \"content\": \"Привет, я хотел бы найти репетитора по английскому языку. Подскажите, кто из репетиторов сейчас доступен?\"\n",
    "    },\n",
    "    {\n",
    "        \"role\": \"assistant\",\n",
    "        \"content\": \"Когда вы планируете начать занятия и сколько сессий вам потребуется?\"\n",
    "    },\n",
    "    {\n",
    "        \"role\": \"user\",\n",
    "        \"content\": \"с 22 января, нужно я думаю не меньше 10 занятий\"\n",
    "    },\n",
    "]\n",
    "\n",
    "response = client.chat.completions.create(\n",
    "    model=\"gpt-4o\",\n",
    "    messages=messages,\n",
    "    tools=tools,\n",
    ")\n",
    "\n",
    "print(response.choices[0].message.tool_calls[0].function)"
   ]
  },
  {
   "cell_type": "code",
   "execution_count": null,
   "metadata": {},
   "outputs": [
    {
     "name": "stderr",
     "output_type": "stream",
     "text": [
      "2024-11-22 13:12:45 - DEBUG - _base_client.py:_build_request:453 - Request options: {'method': 'post', 'url': '/chat/completions', 'files': None, 'json_data': {'messages': [{'role': 'system', 'content': 'You are a helpful customer support assistant. Use the supplied tools to assist the user.'}, {'role': 'user', 'content': 'Привет, я хотел бы найти репетитора по английскому языку. Подскажите, кто из репетиторов сейчас доступен?'}, {'role': 'assistant', 'content': 'Когда вы планируете начать занятия и сколько сессий вам потребуется?'}, {'role': 'user', 'content': 'с 22 января, нужно я думаю не меньше 10 занятий'}, {'content': None, 'refusal': None, 'role': 'assistant', 'tool_calls': [{'id': 'call_8umQwOhwVDP6NoCZYZm3fU9A', 'function': {'arguments': '{\"subject\":\"английский\",\"start_date\":\"2024-01-22\",\"num_sessions\":10}', 'name': 'GetAvaliableTutors'}, 'type': 'function'}]}, {'role': 'tool', 'content': '{\"avaliable_tutors\": [[\"\\\\u0418\\\\u0432\\\\u0430\\\\u043d\\\\u043e\\\\u0432 \\\\u0421\\\\u0435\\\\u043c\\\\u0435\\\\u043d\", \"ivanov@semen\"], [\"\\\\u041f\\\\u0435\\\\u0442\\\\u0440\\\\u043e\\\\u0432 \\\\u041d\\\\u0438\\\\u043a\\\\u043e\\\\u043b\\\\u0430\\\\u0439\", \"petrov@nikolay\"]]}', 'tool_call_id': 'call_8umQwOhwVDP6NoCZYZm3fU9A'}], 'model': 'gpt-4o', 'tools': [{'type': 'function', 'function': {'name': 'GetAvaliableTutors', 'strict': True, 'parameters': {'description': 'Функция выполняет поиск свободного репетитора', 'properties': {'subject': {'description': 'Предмет, по которому требуется найти репетитора', 'title': 'Subject', 'type': 'string'}, 'start_date': {'description': 'Дата начала занятий в формате YYYY-MM-DD', 'title': 'Start Date', 'type': 'string'}, 'num_sessions': {'description': 'Требуемое количество занятий', 'title': 'Num Sessions', 'type': 'integer'}}, 'required': ['subject', 'start_date', 'num_sessions'], 'title': 'GetAvaliableTutors', 'type': 'object', 'additionalProperties': False}, 'description': 'Функция выполняет поиск свободного репетитора'}}]}}\n",
      "2024-11-22 13:12:45 - DEBUG - _base_client.py:_request:988 - Sending HTTP Request: POST https://api.openai.com/v1/chat/completions\n",
      "2024-11-22 13:12:45 - DEBUG - _trace.py:trace:47 - send_request_headers.started request=<Request [b'POST']>\n",
      "2024-11-22 13:12:45 - DEBUG - _trace.py:trace:47 - send_request_headers.complete\n",
      "2024-11-22 13:12:45 - DEBUG - _trace.py:trace:47 - send_request_body.started request=<Request [b'POST']>\n",
      "2024-11-22 13:12:45 - DEBUG - _trace.py:trace:47 - send_request_body.complete\n",
      "2024-11-22 13:12:45 - DEBUG - _trace.py:trace:47 - receive_response_headers.started request=<Request [b'POST']>\n"
     ]
    },
    {
     "name": "stderr",
     "output_type": "stream",
     "text": [
      "2024-11-22 13:12:46 - DEBUG - _trace.py:trace:47 - receive_response_headers.complete return_value=(b'HTTP/1.1', 200, b'OK', [(b'Date', b'Fri, 22 Nov 2024 10:12:46 GMT'), (b'Content-Type', b'application/json'), (b'Transfer-Encoding', b'chunked'), (b'Connection', b'keep-alive'), (b'access-control-expose-headers', b'X-Request-ID'), (b'openai-organization', b'user-vzydrwbzqejmtvohwohb3rlu'), (b'openai-processing-ms', b'1171'), (b'openai-version', b'2020-10-01'), (b'x-ratelimit-limit-requests', b'5000'), (b'x-ratelimit-limit-tokens', b'800000'), (b'x-ratelimit-remaining-requests', b'4999'), (b'x-ratelimit-remaining-tokens', b'799802'), (b'x-ratelimit-reset-requests', b'12ms'), (b'x-ratelimit-reset-tokens', b'14ms'), (b'x-request-id', b'req_9d968c6278343c40bf62fd496efd1455'), (b'strict-transport-security', b'max-age=31536000; includeSubDomains; preload'), (b'CF-Cache-Status', b'DYNAMIC'), (b'X-Content-Type-Options', b'nosniff'), (b'Server', b'cloudflare'), (b'CF-RAY', b'8e6824973afed602-IST'), (b'Content-Encoding', b'gzip'), (b'alt-svc', b'h3=\":443\"; ma=86400')])\n",
      "2024-11-22 13:12:46 - INFO - _client.py:_send_single_request:1038 - HTTP Request: POST https://api.openai.com/v1/chat/completions \"HTTP/1.1 200 OK\"\n",
      "2024-11-22 13:12:46 - DEBUG - _trace.py:trace:47 - receive_response_body.started request=<Request [b'POST']>\n",
      "2024-11-22 13:12:46 - DEBUG - _trace.py:trace:47 - receive_response_body.complete\n",
      "2024-11-22 13:12:46 - DEBUG - _trace.py:trace:47 - response_closed.started\n",
      "2024-11-22 13:12:46 - DEBUG - _trace.py:trace:47 - response_closed.complete\n",
      "2024-11-22 13:12:46 - DEBUG - _base_client.py:_request:1027 - HTTP Response: POST https://api.openai.com/v1/chat/completions \"200 OK\" Headers({'date': 'Fri, 22 Nov 2024 10:12:46 GMT', 'content-type': 'application/json', 'transfer-encoding': 'chunked', 'connection': 'keep-alive', 'access-control-expose-headers': 'X-Request-ID', 'openai-organization': 'user-vzydrwbzqejmtvohwohb3rlu', 'openai-processing-ms': '1171', 'openai-version': '2020-10-01', 'x-ratelimit-limit-requests': '5000', 'x-ratelimit-limit-tokens': '800000', 'x-ratelimit-remaining-requests': '4999', 'x-ratelimit-remaining-tokens': '799802', 'x-ratelimit-reset-requests': '12ms', 'x-ratelimit-reset-tokens': '14ms', 'x-request-id': 'req_9d968c6278343c40bf62fd496efd1455', 'strict-transport-security': 'max-age=31536000; includeSubDomains; preload', 'cf-cache-status': 'DYNAMIC', 'x-content-type-options': 'nosniff', 'server': 'cloudflare', 'cf-ray': '8e6824973afed602-IST', 'content-encoding': 'gzip', 'alt-svc': 'h3=\":443\"; ma=86400'})\n",
      "2024-11-22 13:12:46 - DEBUG - _base_client.py:_request:1035 - request_id: req_9d968c6278343c40bf62fd496efd1455\n"
     ]
    },
    {
     "name": "stdout",
     "output_type": "stream",
     "text": [
      "Вот список доступных репетиторов по английскому языку с 22 января:\n",
      "\n",
      "1. **Иванов Семен**: [ivanov@semen]\n",
      "2. **Петров Николай**: [petrov@nikolay]\n",
      "\n",
      "Вы можете связаться с ними по указанным адресам электронной почты для дальнейших обсуждений. Если у вас есть еще вопросы, дайте знать!\n"
     ]
    }
   ],
   "source": [
    "# openai.log = \"debug\"\n",
    "# logging.basicConfig(level=logging.DEBUG,\n",
    "#                     format='%(asctime)s - %(levelname)s - %(filename)s:%(funcName)s:%(lineno)d - %(message)s',\n",
    "#                     datefmt='%Y-%m-%d %H:%M:%S')\n",
    "\n",
    "\n",
    "arguments = json.loads(response.choices[0].message.tool_calls[0].function.arguments)\n",
    "tutors = find_tutor(**arguments)\n",
    "\n",
    "function_call_result_message = {\n",
    "    \"role\": \"tool\",\n",
    "    \"content\": json.dumps({\n",
    "        \"avaliable_tutors\": tutors\n",
    "    }),\n",
    "    \"tool_call_id\": response.choices[0].message.tool_calls[0].id\n",
    "}\n",
    "\n",
    "messages.append(response.choices[0].message)\n",
    "messages.append(function_call_result_message)\n",
    "\n",
    "response = client.chat.completions.create(\n",
    "    model=\"gpt-4o\",\n",
    "    messages=messages,\n",
    "    tools=tools,\n",
    ")\n",
    "\n",
    "print(response.choices[0].message.content)"
   ]
  }
 ],
 "metadata": {
  "kernelspec": {
   "display_name": "llm-intro",
   "language": "python",
   "name": "python3"
  },
  "language_info": {
   "codemirror_mode": {
    "name": "ipython",
    "version": 3
   },
   "file_extension": ".py",
   "mimetype": "text/x-python",
   "name": "python",
   "nbconvert_exporter": "python",
   "pygments_lexer": "ipython3",
   "version": "3.11.10"
  }
 },
 "nbformat": 4,
 "nbformat_minor": 2
}
