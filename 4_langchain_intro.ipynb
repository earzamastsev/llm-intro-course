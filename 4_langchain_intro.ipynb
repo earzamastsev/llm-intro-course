{
 "cells": [
  {
   "cell_type": "markdown",
   "metadata": {},
   "source": [
    "# Langchain into"
   ]
  },
  {
   "cell_type": "markdown",
   "metadata": {},
   "source": [
    "<img src=\"images/langchain_overview.png\" width=800px />"
   ]
  },
  {
   "cell_type": "markdown",
   "metadata": {
    "vscode": {
     "languageId": "plaintext"
    }
   },
   "source": [
    "## Компоненты LangChain\n",
    "\n",
    "- **langchain-core**  \n",
    "  Базовые абстракции для ключевых компонентов (модели, хранилища векторов, инструменты) и их компоновки. Легковесный, без сторонних интеграций.\n",
    "\n",
    "- **langchain**  \n",
    "  Общие цепочки и стратегии извлечения данных для построения когнитивной архитектуры приложений. Не привязан к сторонним системам.\n",
    "\n",
    "- **Integration Packages**  \n",
    "  Отдельные пакеты для популярных интеграций (например, `langchain-openai`, `langchain-anthropic`), чтобы обеспечить гибкость версий и минимальные зависимости.\n",
    "\n",
    "- **langchain-community**  \n",
    "  Сторонние интеграции, поддерживаемые сообществом. Включает интеграции для моделей, хранилищ и инструментов. Зависимости по умолчанию отключены.\n",
    "\n",
    "- **langgraph**  \n",
    "  Расширение для создания устойчивых, многоактных приложений с использованием графовой модели шагов.\n",
    "\n",
    "- **langserve**  \n",
    "  Инструмент для развертывания цепочек LangChain в виде REST API, подходящий для простых сценариев и известных примитивов.\n",
    "\n",
    "- **LangSmith**  \n",
    "  Платформа для разработчиков для отладки, тестирования, оценки и мониторинга LLM-приложений."
   ]
  },
  {
   "cell_type": "markdown",
   "metadata": {},
   "source": [
    "## 1. Langchain models\n"
   ]
  },
  {
   "cell_type": "code",
   "execution_count": null,
   "metadata": {},
   "outputs": [],
   "source": [
    "# pip install langchain\n",
    "# pip install langchain-openai"
   ]
  },
  {
   "cell_type": "code",
   "execution_count": 19,
   "metadata": {},
   "outputs": [
    {
     "name": "stdout",
     "output_type": "stream",
     "text": [
      "Full result:\n",
      "content='Меня создала компания OpenAI.' additional_kwargs={'refusal': None} response_metadata={'token_usage': {'completion_tokens': 8, 'prompt_tokens': 13, 'total_tokens': 21, 'completion_tokens_details': {'accepted_prediction_tokens': 0, 'audio_tokens': 0, 'reasoning_tokens': 0, 'rejected_prediction_tokens': 0}, 'prompt_tokens_details': {'audio_tokens': 0, 'cached_tokens': 0}}, 'model_name': 'gpt-4o-2024-08-06', 'system_fingerprint': 'fp_831e067d82', 'finish_reason': 'stop', 'logprobs': None} id='run-a04e30d2-eae3-438b-8188-48fec5479512-0' usage_metadata={'input_tokens': 13, 'output_tokens': 8, 'total_tokens': 21, 'input_token_details': {'audio': 0, 'cache_read': 0}, 'output_token_details': {'audio': 0, 'reasoning': 0}}\n",
      "Content only:\n",
      "Меня создала компания OpenAI.\n"
     ]
    }
   ],
   "source": [
    "from dotenv import load_dotenv\n",
    "from langchain_openai import ChatOpenAI\n",
    "\n",
    "# Load environment variables from .env\n",
    "load_dotenv(override=True)\n",
    "\n",
    "# Create a ChatOpenAI model\n",
    "model = ChatOpenAI(model=\"gpt-4o\", verbose=True)\n",
    "\n",
    "# Invoke the model with a message\n",
    "result = model.invoke(\"Кто тебя создал?\")\n",
    "print(\"Full result:\")\n",
    "print(result)\n",
    "print(\"Content only:\")\n",
    "print(result.content)"
   ]
  },
  {
   "cell_type": "code",
   "execution_count": null,
   "metadata": {},
   "outputs": [
    {
     "name": "stdout",
     "output_type": "stream",
     "text": [
      "<class 'langchain_core.messages.ai.AIMessage'>\n",
      "Answer from AI: Приятно познакомиться, Евгений! Я — твой виртуальный помощник, и, к сожалению, у меня нет имени. Как я могу помочь тебе сегодня?\n",
      "Answer from AI: Конечно, ты сказал, что тебя зовут Евгений. Как я могу помочь тебе дальше?\n"
     ]
    }
   ],
   "source": [
    "from langchain.globals import set_verbose\n",
    "from langchain.globals import set_debug\n",
    "set_verbose(False)\n",
    "set_debug(False)\n",
    "\n",
    "messages = [\n",
    "    SystemMessage(content=\"Ты - ИИ помощник, ты помогаешь людям.\"),\n",
    "    HumanMessage(content=\"Давай познакомимся. Меня зовут Евгений, а тебя?\"),\n",
    "]\n",
    "\n",
    "\n",
    "# Invoke the model with messages\n",
    "ai_answer = model.invoke(messages)\n",
    "print(type(ai_answer))\n",
    "print(f\"Answer from AI: {ai_answer.content}\")\n",
    "\n",
    "\n",
    "# AIMessage:\n",
    "#   Message from an AI.\n",
    "messages.append(ai_answer)\n",
    "messages.append(HumanMessage(content=\"Напомни мне, как меня зовут?\"))\n",
    "\n",
    "# Invoke the model with messages\n",
    "result = model.invoke(messages)\n",
    "print(f\"Answer from AI: {result.content}\")\n"
   ]
  },
  {
   "cell_type": "code",
   "execution_count": null,
   "metadata": {},
   "outputs": [],
   "source": [
    "# pip install grpcio\n",
    "# pip install yandexcloud\n",
    "# pip install langchain-community"
   ]
  },
  {
   "cell_type": "code",
   "execution_count": null,
   "metadata": {},
   "outputs": [
    {
     "name": "stdout",
     "output_type": "stream",
     "text": [
      "Answer from AI: Меня зовут Алиса. Я могу ответить на ваши вопросы и помочь в решении различных задач. Чем я могу быть полезна?\n",
      "Answer from AI: Вас зовут Евгений. Если у вас есть другие вопросы, я готова помочь.\n"
     ]
    }
   ],
   "source": [
    "from langchain_together import Together\n",
    "from langchain_community.llms import YandexGPT\n",
    "from langchain_core.messages import AIMessage, HumanMessage, SystemMessage\n",
    "\n",
    "\n",
    "model = Together(model='Qwen/Qwen2.5-Coder-32B-Instruct', max_tokens=1024)\n",
    "model = YandexGPT()\n",
    "\n",
    "messages = [\n",
    "    SystemMessage(content=\"Ты - ИИ помощник, ты помогаешь людям.\"),\n",
    "    HumanMessage(content=\"Давай познакомимся. Меня зовут Евгений, а тебя?\"),\n",
    "]\n",
    "\n",
    "# Invoke the model with messages\n",
    "ai_answer = model.invoke(messages)\n",
    "print(f\"Answer from AI: {ai_answer}\")\n",
    "\n",
    "\n",
    "# AIMessage:\n",
    "#   Message from an AI.\n",
    "messages.append(AIMessage(content=ai_answer))\n",
    "messages.append(HumanMessage(content=\"Напомни мне, как меня зовут?\"))\n",
    "\n",
    "# Invoke the model with messages\n",
    "result = model.invoke(messages)\n",
    "print(f\"Answer from AI: {result}\")"
   ]
  },
  {
   "cell_type": "markdown",
   "metadata": {},
   "source": [
    "## 2. Prompts templates"
   ]
  },
  {
   "cell_type": "code",
   "execution_count": null,
   "metadata": {},
   "outputs": [
    {
     "name": "stdout",
     "output_type": "stream",
     "text": [
      "-----Prompt from Template-----\n",
      "messages=[HumanMessage(content='Придумай короткую шутку про крокодил.', additional_kwargs={}, response_metadata={})]\n",
      "\n",
      "----- Prompt with Multiple Placeholders -----\n",
      "\n",
      "messages=[HumanMessage(content='Ты - ИИ-помощник, ты помогаешь людям.\\nHuman: Расскажи мне короткую веселую историю о крокодиле.', additional_kwargs={}, response_metadata={})]\n",
      "\n",
      "----- Prompt with System and Human Messages (Tuple) -----\n",
      "\n",
      "messages=[SystemMessage(content='Ты выступаешь на стендапе и рассказываешь шутки на тему ИТ.', additional_kwargs={}, response_metadata={}), HumanMessage(content='Расскажи мне 3 шуток.', additional_kwargs={}, response_metadata={})]\n",
      "\n",
      "----- Prompt with System and Human Messages templates -----\n",
      "\n",
      "messages=[SystemMessage(content='Ты выступаешь на стендапе и рассказываешь шутки на тему ИТ.', additional_kwargs={}, response_metadata={}), HumanMessage(content='Расскажи мне 3 шуток.', additional_kwargs={}, response_metadata={})]\n"
     ]
    }
   ],
   "source": [
    "from langchain.prompts import ChatPromptTemplate, AIMessagePromptTemplate, HumanMessagePromptTemplate, SystemMessagePromptTemplate\n",
    "from langchain_core.messages import AIMessage, HumanMessage, SystemMessage\n",
    "\n",
    "\n",
    "# # PART 1: Create a ChatPromptTemplate using a template string\n",
    "template = \"Придумай короткую шутку про {topic}.\"\n",
    "prompt_template = ChatPromptTemplate.from_template(template)\n",
    "\n",
    "print(\"-----Prompt from Template-----\")\n",
    "prompt = prompt_template.invoke({\"topic\": \"крокодил\"})\n",
    "print(prompt)\n",
    "\n",
    "# # PART 2: Prompt with Multiple Placeholders\n",
    "template_multiple = \"\"\"Ты - ИИ-помощник, ты помогаешь людям.\n",
    "Human: Расскажи мне короткую {adjective} историю о {subject}.\"\"\"\n",
    "prompt_multiple = ChatPromptTemplate.from_template(template_multiple)\n",
    "prompt = prompt_multiple.invoke({\"adjective\": \"веселую\", \"subject\": \"крокодиле\"})\n",
    "print(\"\\n----- Prompt with Multiple Placeholders -----\\n\")\n",
    "print(prompt)\n",
    "\n",
    "\n",
    "# PART 3: Prompt with System and Human Messages (Using Tuples)\n",
    "messages = [\n",
    "    (\"system\", \"Ты выступаешь на стендапе и рассказываешь шутки на тему {topic}.\"),\n",
    "    (\"human\", \"Расскажи мне {joke_count} шуток.\"),\n",
    "]\n",
    "prompt_template = ChatPromptTemplate.from_messages(messages)\n",
    "prompt = prompt_template.invoke({\"topic\": \"ИТ\", \"joke_count\": 3})\n",
    "print(\"\\n----- Prompt with System and Human Messages (Tuple) -----\\n\")\n",
    "print(prompt)\n",
    "\n",
    "# # Extra Informoation about Part 4.\n",
    "# # This does work:\n",
    "# messages = [\n",
    "#     (\"system\", \"You are a comedian who tells jokes about {topic}.\"),\n",
    "#     HumanMessage(content=\"Tell me 3 jokes.\"),\n",
    "# ]\n",
    "# prompt_template = ChatPromptTemplate.from_messages(messages)\n",
    "# prompt = prompt_template.invoke({\"topic\": \"lawyers\"})\n",
    "# print(\"\\n----- Prompt with System and Human Messages (Tuple) -----\\n\")\n",
    "# print(prompt)\n",
    "\n",
    "## PART 4: Prompt with System and Human Messages templates\n",
    "messages = [\n",
    "SystemMessagePromptTemplate.from_template('Ты выступаешь на стендапе и рассказываешь шутки на тему {topic}.'),\n",
    "HumanMessagePromptTemplate.from_template('Расскажи мне {joke_count} шуток.')\n",
    "]\n",
    "prompt_template = ChatPromptTemplate.from_messages(messages)\n",
    "prompt = prompt_template.invoke({\"topic\": \"ИТ\", \"joke_count\": 3})\n",
    "print(\"\\n----- Prompt with System and Human Messages templates -----\\n\")\n",
    "print(prompt)\n"
   ]
  },
  {
   "cell_type": "markdown",
   "metadata": {},
   "source": [
    "## 3. LCEL - LangChainExpression Language\n",
    "\n"
   ]
  },
  {
   "cell_type": "code",
   "execution_count": 43,
   "metadata": {},
   "outputs": [
    {
     "name": "stdout",
     "output_type": "stream",
     "text": [
      "1. Встречаются два программиста на конференции. Один говорит другому: «Знаешь, как я называю код, который не могу понять? Это как иностранный язык, только вместо слов — цифры и символы».\n",
      "\n",
      "2. Программист приходит на собеседование. Его спрашивают: «Какой самый популярный язык программирования вы знаете?» Он отвечает: «Английский».\n",
      "\n",
      "3. Программисту говорят, что его код похож на спагетти. Он отвечает: «Ну, по крайней мере, он не сломается, как Java без точки с запятой».\n"
     ]
    }
   ],
   "source": [
    "from dotenv import load_dotenv\n",
    "from langchain.prompts import ChatPromptTemplate\n",
    "from langchain.schema.output_parser import StrOutputParser\n",
    "from langchain_openai import ChatOpenAI\n",
    "\n",
    "# Load environment variables from .env\n",
    "load_dotenv()\n",
    "\n",
    "# Create a ChatOpenAI model\n",
    "model = YandexGPT()\n",
    "\n",
    "# Define prompt templates (no need for separate Runnable chains)\n",
    "prompt_template = ChatPromptTemplate.from_messages(\n",
    "    [\n",
    "        (\"system\", \"Ты придумываешь шутки на тему {topic}.\"),\n",
    "        (\"human\", \"Напиши {joke_count} коротких смешных шутки.\"),\n",
    "    ]\n",
    ")\n",
    "\n",
    "# Create the combined chain using LangChain Expression Language (LCEL)\n",
    "chain = prompt_template | model | StrOutputParser()\n",
    "# chain = prompt_template | model\n",
    "\n",
    "# Run the chain\n",
    "result = chain.invoke({\"topic\": \"ИТ-разпработчики\", \"joke_count\": 3})\n",
    "\n",
    "# Output\n",
    "print(result)"
   ]
  },
  {
   "cell_type": "code",
   "execution_count": 45,
   "metadata": {},
   "outputs": [
    {
     "name": "stdout",
     "output_type": "stream",
     "text": [
      "1. Сисадмин говорит коллеге: «У нас на сервере мышь завелась, всё время файлы грызёт!»\n",
      "\n",
      "2. Встречаются два сисадмина, один у другого спрашивает: «Слушай, как ты так быстро всё в сети настраиваешь? Я вот как ни пытаюсь, ничего не получается...»\n",
      "— А ты просто не забывай, что ты сисадмин, а не волшебник.\n",
      "\n",
      "3. — Что такое сисадмин с похмелья?\n",
      "— Это когда ты пытаешься зайти в свой кабинет, но тебя не пускает пароль «FAILED».\n"
     ]
    }
   ],
   "source": [
    "from dotenv import load_dotenv\n",
    "from langchain.prompts import ChatPromptTemplate\n",
    "from langchain.schema.runnable import RunnableLambda, RunnableSequence\n",
    "from langchain_openai import ChatOpenAI\n",
    "\n",
    "# Load environment variables from .env\n",
    "load_dotenv()\n",
    "\n",
    "# Create a ChatOpenAI model\n",
    "model = ChatOpenAI(model=\"gpt-4\")\n",
    "model = YandexGPT()\n",
    "\n",
    "# Define prompt templates\n",
    "prompt_template = ChatPromptTemplate.from_messages(\n",
    "    [\n",
    "        (\"system\", \"Ты придумываешь шутки на тему {topic}.\"),\n",
    "        (\"human\", \"Напиши {joke_count} коротких смешных шутки.\"),\n",
    "    ]\n",
    ")\n",
    "\n",
    "# Create individual runnables (steps in the chain)\n",
    "format_prompt = RunnableLambda(lambda x: prompt_template.format_prompt(**x))\n",
    "invoke_model = RunnableLambda(lambda x: model.invoke(x.to_messages()))\n",
    "parse_output = RunnableLambda(lambda x: x)\n",
    "\n",
    "# Create the RunnableSequence (equivalent to the LCEL chain)\n",
    "chain = RunnableSequence(first=format_prompt, middle=[invoke_model], last=parse_output)\n",
    "\n",
    "# Run the chain\n",
    "response = chain.invoke({\"topic\": \"сисадмины\", \"joke_count\": 3})\n",
    "\n",
    "# Output\n",
    "print(response)"
   ]
  },
  {
   "cell_type": "code",
   "execution_count": 46,
   "metadata": {},
   "outputs": [
    {
     "name": "stdout",
     "output_type": "stream",
     "text": [
      "Word count: 47\n",
      "SURE, HERE ARE THREE LAWYER JOKES FOR YOU:\n",
      "\n",
      "1. WHY DON'T SHARKS ATTACK LAWYERS?  \n",
      "   PROFESSIONAL COURTESY.\n",
      "\n",
      "2. WHAT’S THE DIFFERENCE BETWEEN A LAWYER AND A HERD OF BUFFALO?  \n",
      "   THE LAWYER CHARGES MORE.\n",
      "\n",
      "3. HOW MANY LAWYER JOKES ARE THERE, REALLY?  \n",
      "   ONLY THREE. THE REST ARE TRUE STORIES!\n"
     ]
    }
   ],
   "source": [
    "from dotenv import load_dotenv\n",
    "from langchain.prompts import ChatPromptTemplate\n",
    "from langchain.schema.output_parser import StrOutputParser\n",
    "from langchain.schema.runnable import RunnableLambda\n",
    "from langchain_openai import ChatOpenAI\n",
    "\n",
    "# Load environment variables from .env\n",
    "load_dotenv()\n",
    "\n",
    "# Create a ChatOpenAI model\n",
    "model = ChatOpenAI(model=\"gpt-4o\")\n",
    "\n",
    "# Define prompt templates\n",
    "prompt_template = ChatPromptTemplate.from_messages(\n",
    "    [\n",
    "        (\"system\", \"You are a comedian who tells jokes about {topic}.\"),\n",
    "        (\"human\", \"Tell me {joke_count} jokes.\"),\n",
    "    ]\n",
    ")\n",
    "\n",
    "# Define additional processing steps using RunnableLambda\n",
    "uppercase_output = RunnableLambda(lambda x: x.upper())\n",
    "count_words = RunnableLambda(lambda x: f\"Word count: {len(x.split())}\\n{x}\")\n",
    "\n",
    "# Create the combined chain using LangChain Expression Language (LCEL)\n",
    "chain = prompt_template | model | StrOutputParser() | uppercase_output | count_words\n",
    "\n",
    "# Run the chain\n",
    "result = chain.invoke({\"topic\": \"lawyers\", \"joke_count\": 3})\n",
    "\n",
    "# Output\n",
    "print(result)"
   ]
  },
  {
   "cell_type": "code",
   "execution_count": 58,
   "metadata": {},
   "outputs": [
    {
     "name": "stdout",
     "output_type": "stream",
     "text": [
      "Pros:\n",
      "**Плюсы породы кошек корниш-рекс:**\n",
      "\n",
      "1. **Оригинальный внешний вид.** Кошки корниш-рекс отличаются своей необычной кудрявой шерстью, которая придаёт им неповторимый вид. Это может быть привлекательным для тех, кто ищет что-то особенное среди пород кошек.\n",
      "\n",
      "2. **Игривый и общительный характер.** Корниш-рексы очень активные и любопытные кошки, которые любят внимание и общение с людьми. Они могут стать отличными компаньонами для семей с детьми или для людей, которые ищут активного питомца.\n",
      "\n",
      "3. **Отсутствие подшёрстка.** Из-за отсутствия подшёрстка, шерсть корниш-рексов не требует сложного ухода. Её достаточно регулярно расчёсывать мягкой щёткой или специальной перчаткой, чтобы удалить отмершие волоски. Это может облегчить уход за шерстью по сравнению с некоторыми другими породами кошек.\n",
      "\n",
      "Однако стоит отметить, что корниш-рексы могут быть склонны к некоторым заболеваниям, поэтому важно следить за их здоровьем и регулярно посещать ветеринара. Также необходимо учитывать, что эти кошки могут быть не подходящими для людей, у которых есть аллергия на кошек.\n",
      "\n",
      "Cons:\n",
      "**Недостатки породы кошек корниш-рекс:**\n",
      "\n",
      "1. **Уход за шерстью.** Из-за отсутствия подшёрстка шерсть корниш-рексов требует особого ухода. Её нужно регулярно расчёсывать, чтобы удалить отмершие волоски, иначе могут образоваться колтуны. Также владельцам придётся следить за чистотой ушей и глаз питомца.\n",
      "\n",
      "2. **Склонность к заболеваниям.** Корниш-рексы могут быть склонны к некоторым заболеваниям, таким как астма, аллергия и заболевания почек. Это значит, что владельцам нужно быть внимательными к состоянию здоровья питомца и регулярно посещать ветеринара.\n",
      "\n",
      "3. **Совместимость с другими животными.** Хотя корниш-рексы обычно хорошо ладят с другими кошками и собаками, они могут проявлять агрессию к грызунам и птицам. Это может быть проблемой для владельцев, у которых есть другие животные в доме.\n"
     ]
    }
   ],
   "source": [
    "# parallel chains\n",
    "\n",
    "from dotenv import load_dotenv\n",
    "from langchain.prompts import ChatPromptTemplate\n",
    "from langchain.schema.output_parser import StrOutputParser\n",
    "from langchain.schema.runnable import RunnableParallel, RunnableLambda\n",
    "from langchain_openai import ChatOpenAI\n",
    "\n",
    "# Load environment variables from .env\n",
    "load_dotenv()\n",
    "\n",
    "# Create a ChatOpenAI model\n",
    "model = ChatOpenAI(model=\"gpt-4o\")\n",
    "model = YandexGPT()\n",
    "\n",
    "# Define prompt template\n",
    "prompt_template = ChatPromptTemplate.from_messages(\n",
    "    [\n",
    "        (\"system\", \"You are an expert an cats and dogs. Answer in Russian.\"),\n",
    "        (\"human\", \"List the main features of the animal type {product_name}.\"),\n",
    "    ]\n",
    ")\n",
    "\n",
    "\n",
    "# Define pros analysis step\n",
    "def analyze_pros(features):\n",
    "    pros_template = ChatPromptTemplate.from_messages(\n",
    "        [\n",
    "            (\"system\", \"You are an expert an cats and dogs\"),\n",
    "            (\n",
    "                \"human\",\n",
    "                \"Given these features: {features}, list the 3 pros of these animal.\",\n",
    "            ),\n",
    "        ]\n",
    "    )\n",
    "    return pros_template.format_prompt(features=features)\n",
    "\n",
    "\n",
    "# Define cons analysis step\n",
    "def analyze_cons(features):\n",
    "    cons_template = ChatPromptTemplate.from_messages(\n",
    "        [\n",
    "            (\"system\", \"You are an expert an cats and dogs\"),\n",
    "            (\n",
    "                \"human\",\n",
    "                \"Given these features: {features}, list the 3 cons of these animal.\",\n",
    "            ),\n",
    "        ]\n",
    "    )\n",
    "    return cons_template.format_prompt(features=features)\n",
    "\n",
    "\n",
    "# Combine pros and cons into a final review\n",
    "def combine_pros_cons(pros, cons):\n",
    "    return f\"Pros:\\n{pros}\\n\\nCons:\\n{cons}\"\n",
    "\n",
    "\n",
    "# Simplify branches with LCEL\n",
    "pros_branch_chain = (\n",
    "    RunnableLambda(lambda x: analyze_pros(x)) | model | StrOutputParser()\n",
    ")\n",
    "\n",
    "cons_branch_chain = (\n",
    "    RunnableLambda(lambda x: analyze_cons(x)) | model | StrOutputParser()\n",
    ")\n",
    "\n",
    "# Create the combined chain using LangChain Expression Language (LCEL)\n",
    "chain = (\n",
    "    prompt_template\n",
    "    | model\n",
    "    | StrOutputParser()\n",
    "    | RunnableParallel(branches={\"pros\": pros_branch_chain, \"cons\": cons_branch_chain})\n",
    "    | RunnableLambda(lambda x: combine_pros_cons(x[\"branches\"][\"pros\"], x[\"branches\"][\"cons\"]))\n",
    ")\n",
    "\n",
    "# Run the chain\n",
    "result = chain.invoke({\"product_name\": \"Кошка породы Корниш рекс\"})\n",
    "\n",
    "# Output\n",
    "print(result)"
   ]
  },
  {
   "cell_type": "code",
   "execution_count": 57,
   "metadata": {},
   "outputs": [
    {
     "name": "stdout",
     "output_type": "stream",
     "text": [
      "Уважаемый [имя автора сообщения или название организации],\n",
      "\n",
      "Я хотел(а) бы выразить свою благодарность за вашу помощь и внимание к моему предыдущему обращению. Я получил(а) положительный результат и остался(ась) доволен(льна) качеством предоставленной информации и уровнем обслуживания.\n",
      "\n",
      "Однако у меня есть небольшой вопрос, который я хотел(а) уточнить. [Описание вопроса или проблемы]. Буду благодарен(льна), если вы сможете мне помочь.\n",
      "\n",
      "Если это не входит в ваши обязанности, пожалуйста, сообщите мне, к кому я могу обратиться за дополнительной информацией или помощью.\n",
      "\n",
      "Благодарю вас за ваше терпение и понимание.\n",
      "\n",
      "С уважением,\n",
      "[Ваше имя]\n"
     ]
    }
   ],
   "source": [
    "# branches chains\n",
    "\n",
    "from dotenv import load_dotenv\n",
    "from langchain.prompts import ChatPromptTemplate\n",
    "from langchain.schema.output_parser import StrOutputParser\n",
    "from langchain.schema.runnable import RunnableBranch\n",
    "from langchain_openai import ChatOpenAI\n",
    "\n",
    "# Load environment variables from .env\n",
    "load_dotenv()\n",
    "\n",
    "# Create a ChatOpenAI model\n",
    "model = ChatOpenAI(model=\"gpt-4o\")\n",
    "\n",
    "model = YandexGPT()\n",
    "\n",
    "# Define prompt templates for different feedback types\n",
    "positive_feedback_template = ChatPromptTemplate.from_messages(\n",
    "    [\n",
    "        (\"system\", \"You are a helpful assistant.\"),\n",
    "        (\"human\",\n",
    "         \"Generate a thank you note for this positive feedback: {feedback}.\"),\n",
    "    ]\n",
    ")\n",
    "\n",
    "negative_feedback_template = ChatPromptTemplate.from_messages(\n",
    "    [\n",
    "        (\"system\", \"You are a helpful assistant.\"),\n",
    "        (\"human\",\n",
    "         \"Generate a response addressing this negative feedback: {feedback}.\"),\n",
    "    ]\n",
    ")\n",
    "\n",
    "neutral_feedback_template = ChatPromptTemplate.from_messages(\n",
    "    [\n",
    "        (\"system\", \"You are a helpful assistant.\"),\n",
    "        (\n",
    "            \"human\",\n",
    "            \"Generate a request for more details for this neutral feedback: {feedback}.\",\n",
    "        ),\n",
    "    ]\n",
    ")\n",
    "\n",
    "escalate_feedback_template = ChatPromptTemplate.from_messages(\n",
    "    [\n",
    "        (\"system\", \"You are a helpful assistant.\"),\n",
    "        (\n",
    "            \"human\",\n",
    "            \"Generate a message to escalate this feedback to a human agent: {feedback}.\",\n",
    "        ),\n",
    "    ]\n",
    ")\n",
    "\n",
    "# Define the feedback classification template\n",
    "classification_template = ChatPromptTemplate.from_messages(\n",
    "    [\n",
    "        (\"system\", \"You are a helpful assistant. Answer always in Russian.\"),\n",
    "        (\"human\",\n",
    "         \"Classify the sentiment of this feedback as positive, negative, neutral, or escalate: {feedback}.\"),\n",
    "    ]\n",
    ")\n",
    "\n",
    "# Define the runnable branches for handling feedback\n",
    "branches = RunnableBranch(\n",
    "    (\n",
    "        lambda x: \"positive\" in x,\n",
    "        positive_feedback_template | model | StrOutputParser()  # Positive feedback chain\n",
    "    ),\n",
    "    (\n",
    "        lambda x: \"negative\" in x,\n",
    "        negative_feedback_template | model | StrOutputParser()  # Negative feedback chain\n",
    "    ),\n",
    "    (\n",
    "        lambda x: \"neutral\" in x,\n",
    "        neutral_feedback_template | model | StrOutputParser()  # Neutral feedback chain\n",
    "    ),\n",
    "    escalate_feedback_template | model | StrOutputParser()\n",
    ")\n",
    "\n",
    "# Create the classification chain\n",
    "classification_chain = classification_template | model | StrOutputParser()\n",
    "\n",
    "# Combine classification and response generation into one chain\n",
    "chain = classification_chain | branches\n",
    "\n",
    "# Run the chain with an example review\n",
    "# Good review - \"The product is excellent. I really enjoyed using it and found it very helpful.\"\n",
    "# Bad review - \"The product is terrible. It broke after just one use and the quality is very poor.\"\n",
    "# Neutral review - \"The product is okay. It works as expected but nothing exceptional.\"\n",
    "# Default - \"I'm not sure about the product yet. Can you tell me more about its features and benefits?\"\n",
    "\n",
    "review = \"The product is supergood\"\n",
    "result = chain.invoke({\"feedback\": review})\n",
    "\n",
    "# Output the result\n",
    "print(result)"
   ]
  },
  {
   "cell_type": "markdown",
   "metadata": {},
   "source": [
    "# 3. LangSmith"
   ]
  },
  {
   "cell_type": "markdown",
   "metadata": {},
   "source": [
    "# 4. LangGraph"
   ]
  },
  {
   "cell_type": "markdown",
   "metadata": {},
   "source": []
  }
 ],
 "metadata": {
  "kernelspec": {
   "display_name": "llm-intro",
   "language": "python",
   "name": "python3"
  },
  "language_info": {
   "codemirror_mode": {
    "name": "ipython",
    "version": 3
   },
   "file_extension": ".py",
   "mimetype": "text/x-python",
   "name": "python",
   "nbconvert_exporter": "python",
   "pygments_lexer": "ipython3",
   "version": "3.11.10"
  }
 },
 "nbformat": 4,
 "nbformat_minor": 2
}
